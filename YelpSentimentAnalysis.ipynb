{
  "nbformat": 4,
  "nbformat_minor": 0,
  "metadata": {
    "colab": {
      "name": "YelpSentimentAnalysis.ipynb",
      "provenance": [],
      "collapsed_sections": [],
      "include_colab_link": true
    },
    "kernelspec": {
      "name": "python3",
      "display_name": "Python 3"
    }
  },
  "cells": [
    {
      "cell_type": "markdown",
      "metadata": {
        "id": "view-in-github",
        "colab_type": "text"
      },
      "source": [
        "<a href=\"https://colab.research.google.com/github/emilypeek1/YelpSentimentAnalysis/blob/master/YelpSentimentAnalysis.ipynb\" target=\"_parent\"><img src=\"https://colab.research.google.com/assets/colab-badge.svg\" alt=\"Open In Colab\"/></a>"
      ]
    },
    {
      "cell_type": "markdown",
      "metadata": {
        "id": "1lrctBo4zGy6",
        "colab_type": "text"
      },
      "source": [
        "**COLLEGAMENTO GOOGLE DRIVE**"
      ]
    },
    {
      "cell_type": "code",
      "metadata": {
        "id": "KgbThMXPe1UX",
        "colab_type": "code",
        "colab": {
          "base_uri": "https://localhost:8080/",
          "height": 124
        },
        "outputId": "84b24a54-95df-4df4-af8b-2a9e01aa3e44"
      },
      "source": [
        "from google.colab import drive\n",
        "drive.mount('/content/drive')\n",
        "\n",
        "INPUT_FOLDER = \"/content/drive/My Drive/\""
      ],
      "execution_count": 1,
      "outputs": [
        {
          "output_type": "stream",
          "text": [
            "Go to this URL in a browser: https://accounts.google.com/o/oauth2/auth?client_id=947318989803-6bn6qk8qdgf4n4g3pfee6491hc0brc4i.apps.googleusercontent.com&redirect_uri=urn%3aietf%3awg%3aoauth%3a2.0%3aoob&response_type=code&scope=email%20https%3a%2f%2fwww.googleapis.com%2fauth%2fdocs.test%20https%3a%2f%2fwww.googleapis.com%2fauth%2fdrive%20https%3a%2f%2fwww.googleapis.com%2fauth%2fdrive.photos.readonly%20https%3a%2f%2fwww.googleapis.com%2fauth%2fpeopleapi.readonly\n",
            "\n",
            "Enter your authorization code:\n",
            "··········\n",
            "Mounted at /content/drive\n"
          ],
          "name": "stdout"
        }
      ]
    },
    {
      "cell_type": "markdown",
      "metadata": {
        "id": "HDOsrFeMzZRM",
        "colab_type": "text"
      },
      "source": [
        "**IMPORTAZIONE LIBRERIE**"
      ]
    },
    {
      "cell_type": "code",
      "metadata": {
        "id": "LLRnJCKhWLEa",
        "colab_type": "code",
        "colab": {}
      },
      "source": [
        "import pandas as pd\n",
        "import numpy as np\n",
        "import matplotlib.pyplot as plt \n",
        "import time\n",
        "from gensim.utils import simple_preprocess\n",
        "from gensim.parsing.porter import PorterStemmer\n",
        "from gensim.models import Word2Vec\n",
        "from sklearn.model_selection import train_test_split\n",
        "from sklearn.naive_bayes import GaussianNB\n",
        "from sklearn.ensemble import RandomForestClassifier\n",
        "from sklearn.svm import LinearSVC\n",
        "from sklearn.metrics import classification_report"
      ],
      "execution_count": 2,
      "outputs": []
    },
    {
      "cell_type": "markdown",
      "metadata": {
        "id": "Y_5-Ji8qysC6",
        "colab_type": "text"
      },
      "source": [
        "**IMPORTAZIONE DATASET**"
      ]
    },
    {
      "cell_type": "code",
      "metadata": {
        "id": "vu9gOYvH8f03",
        "colab_type": "code",
        "colab": {}
      },
      "source": [
        "#NON ESEGUIRE SE IL DATASET IN CSV È GIÀ NEL DRIVE\n",
        "def load_yelp_orig_data():\n",
        "  size = 1000000  #one million rows\n",
        "  review = pd.read_json(INPUT_FOLDER + \"yelp_academic_dataset_review.json\", lines=True,\n",
        "                        dtype={'review_id':str,'user_id':str,\n",
        "                              'business_id':str,'stars':int,\n",
        "                              'useful':int,'funny':int,'cool':int,\n",
        "                              'text':str,'date':str},\n",
        "                        chunksize=size)\n",
        "  \n",
        "  # There are multiple chunks to be read\n",
        "  chunk_list = []\n",
        "  for chunk_review in review:\n",
        "    # Drop columns that aren't needed\n",
        "    chunk_review = chunk_review.drop(['review_id', 'user_id', 'business_id', 'useful', 'funny', 'cool', 'date'], axis=1)\n",
        "    # Drop rows with missing values\n",
        "    chunk_review = chunk_review.dropna()\n",
        "    # Add chunk\n",
        "    chunk_list.append(chunk_review)\n",
        "    break\n",
        "  # After trimming down the review file, concatenate all relevant data back to one dataframe\n",
        "  df = pd.concat(chunk_list, ignore_index=True, join='outer', axis=0)\n",
        "  # convert to csv\n",
        "  csv_name = \"yelp_reviews.csv\"\n",
        "  df.to_csv(INPUT_FOLDER + csv_name, index=False)\n",
        "\n",
        "load_yelp_orig_data()"
      ],
      "execution_count": null,
      "outputs": []
    },
    {
      "cell_type": "code",
      "metadata": {
        "id": "YyVL_YEd6Pft",
        "colab_type": "code",
        "colab": {}
      },
      "source": [
        "df = pd.read_csv(INPUT_FOLDER + 'yelp_reviews.csv')"
      ],
      "execution_count": 3,
      "outputs": []
    },
    {
      "cell_type": "code",
      "metadata": {
        "id": "dQ2W_VxguZw3",
        "colab_type": "code",
        "colab": {}
      },
      "source": [
        "#This code can be used to check type inconsistencies\n",
        "\n",
        "#weird = (top_data_df.applymap(type) != top_data_df.iloc[0].apply(type)).any(axis=1)\n",
        "#print(top_data_df[weird])\n",
        "#top_data_df.stars = top_data_df.stars.astype('int')\n",
        "#print(top_data_df.iloc[1048575, 0].dtype)\n",
        "#print(top_data_df.iloc[1048576, 0] > 0)\n",
        "\n",
        "#top_data_df.stars = top_data_df.stars.astype(np.int64)\n",
        "#print(top_data_df.iloc[1048576, 0].dtype)"
      ],
      "execution_count": null,
      "outputs": []
    },
    {
      "cell_type": "markdown",
      "metadata": {
        "id": "pv-jywo103sU",
        "colab_type": "text"
      },
      "source": [
        "**AGGIUNTA COLONNA SENTIMENT**"
      ]
    },
    {
      "cell_type": "code",
      "metadata": {
        "id": "RdYSkSxGWO93",
        "colab_type": "code",
        "colab": {
          "base_uri": "https://localhost:8080/",
          "height": 417
        },
        "outputId": "8ac58f44-a310-4ada-8cbc-be9f9d3915d3"
      },
      "source": [
        "print(\"Number of rows per star rating:\")\n",
        "print(df['stars'].value_counts())\n",
        "\n",
        "# Function to map stars to sentiment\n",
        "def map_sentiment(stars_received):\n",
        "    if stars_received <= 2:\n",
        "        return -1\n",
        "    elif stars_received == 3:\n",
        "        return 0\n",
        "    else:\n",
        "        return 1\n",
        "# Mapping stars to sentiment into three categories\n",
        "df['sentiment'] = [ map_sentiment(x) for x in df['stars']]\n",
        "# Plotting the sentiment distribution\n",
        "plt.figure()\n",
        "pd.value_counts(df['sentiment']).plot.bar(title=\"Sentiment distribution in df\")\n",
        "plt.xlabel(\"Sentiment\")\n",
        "plt.ylabel(\"No. of rows in df\")\n",
        "plt.show()"
      ],
      "execution_count": 4,
      "outputs": [
        {
          "output_type": "stream",
          "text": [
            "Number of rows per star rating:\n",
            "5    449091\n",
            "4    210363\n",
            "1    156690\n",
            "3    104973\n",
            "2     78883\n",
            "Name: stars, dtype: int64\n"
          ],
          "name": "stdout"
        },
        {
          "output_type": "display_data",
          "data": {
            "image/png": "[encoded data removed]",
            "text/plain": [
              "<Figure size 432x288 with 1 Axes>"
            ]
          },
          "metadata": {
            "tags": [],
            "needs_background": "light"
          }
        }
      ]
    },
    {
      "cell_type": "markdown",
      "metadata": {
        "id": "DvvDslPx1lVx",
        "colab_type": "text"
      },
      "source": [
        "**BILANCIAMENTO DATASET**"
      ]
    },
    {
      "cell_type": "code",
      "metadata": {
        "id": "72l-0eqcWVsY",
        "colab_type": "code",
        "colab": {
          "base_uri": "https://localhost:8080/",
          "height": 104
        },
        "outputId": "17f2c28b-e24f-41ff-aad8-bcb67a79366e"
      },
      "source": [
        "# Function to retrieve top few number of each category\n",
        "def get_top_data(top_n):\n",
        "    df_positive = df[df['sentiment'] == 1].head(top_n)\n",
        "    df_negative = df[df['sentiment'] == -1].head(top_n)\n",
        "    df_neutral = df[df['sentiment'] == 0].head(top_n)\n",
        "    df_balanced = pd.concat([df_positive, df_negative, df_neutral])\n",
        "    return df_balanced\n",
        "\n",
        "# Function call to get the top 100.000 from each sentiment\n",
        "df_balanced = get_top_data(100000)\n",
        "\n",
        "# After selecting top few samples of each sentiment\n",
        "print(\"After segregating and taking equal number of rows for each sentiment:\")\n",
        "print(df_balanced['sentiment'].value_counts())"
      ],
      "execution_count": 5,
      "outputs": [
        {
          "output_type": "stream",
          "text": [
            "After segregating and taking equal number of rows for each sentiment:\n",
            "-1    100000\n",
            " 1    100000\n",
            " 0    100000\n",
            "Name: sentiment, dtype: int64\n"
          ],
          "name": "stdout"
        }
      ]
    },
    {
      "cell_type": "markdown",
      "metadata": {
        "id": "iOXFaQtK1uPT",
        "colab_type": "text"
      },
      "source": [
        "**TOKENIZZAZIONE**"
      ]
    },
    {
      "cell_type": "code",
      "metadata": {
        "id": "ckheSTYTWWeA",
        "colab_type": "code",
        "colab": {
          "base_uri": "https://localhost:8080/",
          "height": 121
        },
        "outputId": "59b6b066-9485-4fc5-9679-474396ce7ccc"
      },
      "source": [
        "# Tokenize the text column to get the new column 'tokenized_text'\n",
        "df_balanced['tokenized_text'] = [simple_preprocess(line, deacc=True) for line in df_balanced['text']] \n",
        "print(df_balanced['tokenized_text'].head(5))"
      ],
      "execution_count": 6,
      "outputs": [
        {
          "output_type": "stream",
          "text": [
            "2    [love, deagan, do, really, do, the, atmosphere...\n",
            "4    [oh, happy, day, finally, have, canes, near, m...\n",
            "5    [this, is, definitely, my, favorite, fast, foo...\n",
            "6    [really, good, place, with, simple, decor, ama...\n",
            "7    [awesome, office, and, staff, very, profession...\n",
            "Name: tokenized_text, dtype: object\n"
          ],
          "name": "stdout"
        }
      ]
    },
    {
      "cell_type": "markdown",
      "metadata": {
        "id": "9pVZl6FA155c",
        "colab_type": "text"
      },
      "source": [
        "**STEMMING**"
      ]
    },
    {
      "cell_type": "code",
      "metadata": {
        "id": "QBEhmXvUWe3k",
        "colab_type": "code",
        "colab": {
          "base_uri": "https://localhost:8080/",
          "height": 121
        },
        "outputId": "976f4834-3c32-4386-c78d-400e1e0ab20b"
      },
      "source": [
        "porter_stemmer = PorterStemmer()\n",
        "# Get the stemmed_tokens\n",
        "df_balanced['stemmed_tokens'] = [[porter_stemmer.stem(word) for word in tokens] for tokens in df_balanced['tokenized_text'] ]\n",
        "print(df_balanced['stemmed_tokens'].head(5))"
      ],
      "execution_count": 7,
      "outputs": [
        {
          "output_type": "stream",
          "text": [
            "2    [love, deagan, do, realli, do, the, atmospher,...\n",
            "4    [oh, happi, dai, final, have, cane, near, my, ...\n",
            "5    [thi, is, definit, my, favorit, fast, food, su...\n",
            "6    [realli, good, place, with, simpl, decor, amaz...\n",
            "7    [awesom, offic, and, staff, veri, profession, ...\n",
            "Name: stemmed_tokens, dtype: object\n"
          ],
          "name": "stdout"
        }
      ]
    },
    {
      "cell_type": "markdown",
      "metadata": {
        "id": "zAwlSjBw46B3",
        "colab_type": "text"
      },
      "source": [
        "**TRAINING MODELLO WORD2VEC** \n",
        "\n",
        "Vengono generati tre file per il modello:\n",
        "\n",
        "\n",
        "1.   word2vec_model\n",
        "2.   word2vec_model.trainables.syn1neg\n",
        "3.   word2vec_model.wv.vectors\n",
        "\n"
      ]
    },
    {
      "cell_type": "code",
      "metadata": {
        "id": "M-Jx9jd-Wmna",
        "colab_type": "code",
        "colab": {
          "base_uri": "https://localhost:8080/",
          "height": 89
        },
        "outputId": "04f0637c-3b22-410c-99c6-417954d4749b"
      },
      "source": [
        "#NON ESEGUIRE SE IL MODELLO È GIÀ NEL DRIVE\n",
        "size = 300    #dim of word vectors\n",
        "window = 3    #context window\n",
        "min_count = 1 #ignore words with lower frequency\n",
        "workers = 3   #training threads\n",
        "sg = 1        #Skip-gram model\n",
        "\n",
        "word2vec_model_file = INPUT_FOLDER + 'word2vec_model'\n",
        "start_time = time.time()\n",
        "# train only on the stemmed tokens\n",
        "stemmed_tokens = pd.Series(df_balanced['stemmed_tokens']).values\n",
        "# Train the Word2Vec Model\n",
        "w2v_model = Word2Vec(stemmed_tokens, min_count = min_count, size = size, workers = workers, window = window, sg = sg)\n",
        "print(\"Time taken to train word2vec model: \" + str(time.time() - start_time))\n",
        "w2v_model.save(word2vec_model_file)"
      ],
      "execution_count": 8,
      "outputs": [
        {
          "output_type": "stream",
          "text": [
            "Time taken to train word2vec model: 808.2884511947632\n"
          ],
          "name": "stdout"
        },
        {
          "output_type": "stream",
          "text": [
            "/usr/local/lib/python3.6/dist-packages/smart_open/smart_open_lib.py:253: UserWarning: This function is deprecated, use smart_open.open instead. See the migration notes for details: https://github.com/RaRe-Technologies/smart_open/blob/master/README.rst#migrating-to-the-new-open-function\n",
            "  'See the migration notes for details: %s' % _MIGRATION_NOTES_URL\n"
          ],
          "name": "stderr"
        }
      ]
    },
    {
      "cell_type": "markdown",
      "metadata": {
        "id": "6mqYlPzv6zcO",
        "colab_type": "text"
      },
      "source": [
        "**CARICAMENTO MODELLO WORD2VEC**"
      ]
    },
    {
      "cell_type": "code",
      "metadata": {
        "id": "EmB2dmCvWnXK",
        "colab_type": "code",
        "colab": {
          "base_uri": "https://localhost:8080/",
          "height": 72
        },
        "outputId": "1b17b8e2-3467-4cb6-9b31-d2cb4d96747f"
      },
      "source": [
        "# Load the model from the model file\n",
        "w2v_model = Word2Vec.load(INPUT_FOLDER + 'word2vec_model')"
      ],
      "execution_count": 9,
      "outputs": [
        {
          "output_type": "stream",
          "text": [
            "/usr/local/lib/python3.6/dist-packages/smart_open/smart_open_lib.py:253: UserWarning: This function is deprecated, use smart_open.open instead. See the migration notes for details: https://github.com/RaRe-Technologies/smart_open/blob/master/README.rst#migrating-to-the-new-open-function\n",
            "  'See the migration notes for details: %s' % _MIGRATION_NOTES_URL\n"
          ],
          "name": "stderr"
        }
      ]
    },
    {
      "cell_type": "markdown",
      "metadata": {
        "id": "xMLCw-GX2Scv",
        "colab_type": "text"
      },
      "source": [
        "**DIVISIONE DATASET IN TRAINING E TESTING DATASET**"
      ]
    },
    {
      "cell_type": "code",
      "metadata": {
        "id": "R3GUTi87Wilm",
        "colab_type": "code",
        "colab": {}
      },
      "source": [
        "# Train Test Split Function\n",
        "def split_train_test(df_balanced, test_size=0.3, shuffle_state=True):\n",
        "    X_train, X_test, Y_train, Y_test = train_test_split(df_balanced[['stars', 'stemmed_tokens']], \n",
        "                                                        df_balanced['sentiment'], \n",
        "                                                        shuffle=shuffle_state,\n",
        "                                                        test_size=test_size, \n",
        "                                                        random_state=15)\n",
        "    X_train = X_train.reset_index()\n",
        "    X_test = X_test.reset_index()\n",
        "    Y_train = Y_train.to_frame()\n",
        "    Y_train = Y_train.reset_index()\n",
        "    Y_test = Y_test.to_frame()\n",
        "    Y_test = Y_test.reset_index()\n",
        "    return X_train, X_test, Y_train, Y_test\n",
        "\n",
        "# Call the train_test_split\n",
        "X_train, X_test, Y_train, Y_test = split_train_test(df_balanced)"
      ],
      "execution_count": 10,
      "outputs": []
    },
    {
      "cell_type": "markdown",
      "metadata": {
        "id": "cGmwXrMJ8DYR",
        "colab_type": "text"
      },
      "source": [
        "**GENERAZIONE TRAINING DATASET WORD2VEC**"
      ]
    },
    {
      "cell_type": "code",
      "metadata": {
        "id": "CyeE_CyWWqYm",
        "colab_type": "code",
        "colab": {
          "base_uri": "https://localhost:8080/",
          "height": 141
        },
        "outputId": "a796a97e-36fc-49fa-b3dc-273a51db79e1"
      },
      "source": [
        "#NON ESEGUIRE SE TRAIN_REVIEW_WORD2VEC È GIÀ NEL DRIVE\n",
        "# Store the vectors for train data in following file\n",
        "word2vec_filename = INPUT_FOLDER + 'train_review_word2vec.csv'\n",
        "with open(word2vec_filename, 'w+') as word2vec_file:\n",
        "    for index, row in X_train.iterrows():\n",
        "        #average over all the vectors of words in a sentence\n",
        "        model_vector = (np.mean([w2v_model[token] for token in row['stemmed_tokens']], axis=0)).tolist()\n",
        "        if index == 0:\n",
        "            header = \",\".join(str(ele) for ele in range(300))\n",
        "            word2vec_file.write(header)\n",
        "            word2vec_file.write(\"\\n\")\n",
        "        # Check if the line exists else it is vector of zeros\n",
        "        if type(model_vector) is list:  \n",
        "            line1 = \",\".join( [str(vector_element) for vector_element in model_vector] )\n",
        "        else:\n",
        "            line1 = \",\".join([str(0) for i in range(300)])\n",
        "        word2vec_file.write(line1)\n",
        "        word2vec_file.write('\\n')"
      ],
      "execution_count": 11,
      "outputs": [
        {
          "output_type": "stream",
          "text": [
            "/usr/local/lib/python3.6/dist-packages/ipykernel_launcher.py:7: DeprecationWarning: Call to deprecated `__getitem__` (Method will be removed in 4.0.0, use self.wv.__getitem__() instead).\n",
            "  import sys\n",
            "/usr/local/lib/python3.6/dist-packages/numpy/core/fromnumeric.py:3335: RuntimeWarning: Mean of empty slice.\n",
            "  out=out, **kwargs)\n",
            "/usr/local/lib/python3.6/dist-packages/numpy/core/_methods.py:161: RuntimeWarning: invalid value encountered in double_scalars\n",
            "  ret = ret.dtype.type(ret / rcount)\n"
          ],
          "name": "stderr"
        }
      ]
    },
    {
      "cell_type": "markdown",
      "metadata": {
        "id": "EUi6Sh-u8FME",
        "colab_type": "text"
      },
      "source": [
        "**CARICAMENTO TRAINING DATASET WORD2VEC**"
      ]
    },
    {
      "cell_type": "code",
      "metadata": {
        "id": "2Iv35zFeU0i5",
        "colab_type": "code",
        "colab": {}
      },
      "source": [
        "# Load from the filename\n",
        "word2vec_df = pd.read_csv(INPUT_FOLDER + 'train_review_word2vec.csv')\n"
      ],
      "execution_count": 12,
      "outputs": []
    },
    {
      "cell_type": "code",
      "metadata": {
        "id": "m46K0fp5WiC_",
        "colab_type": "code",
        "colab": {
          "base_uri": "https://localhost:8080/",
          "height": 52
        },
        "outputId": "e8208c02-618c-46c4-8d5b-2a9d3d62a0dc"
      },
      "source": [
        "#print(word2vec_df.iloc[210000, 299])\n",
        "print(Y_train['sentiment'][209999])\n",
        "X_train.columns"
      ],
      "execution_count": 81,
      "outputs": [
        {
          "output_type": "stream",
          "text": [
            "0\n"
          ],
          "name": "stdout"
        },
        {
          "output_type": "execute_result",
          "data": {
            "text/plain": [
              "Index(['index', 'stars', 'stemmed_tokens'], dtype='object')"
            ]
          },
          "metadata": {
            "tags": []
          },
          "execution_count": 81
        }
      ]
    },
    {
      "cell_type": "markdown",
      "metadata": {
        "id": "8ZE1Ldsb8Fvh",
        "colab_type": "text"
      },
      "source": [
        "**TRAINING CLASSIFICATORI**"
      ]
    },
    {
      "cell_type": "code",
      "metadata": {
        "id": "S0CmHzuSiqC4",
        "colab_type": "code",
        "colab": {
          "base_uri": "https://localhost:8080/",
          "height": 35
        },
        "outputId": "1708df14-cac6-4265-b774-0e38b52b8162"
      },
      "source": [
        "#Initialize the model\n",
        "nb_classifier = GaussianNB()\n",
        "\n",
        "start_time = time.time()\n",
        "# Fit the model\n",
        "nb_classifier.fit(word2vec_df, Y_train['sentiment'])\n",
        "print(\"Time taken to fit the RF model with word2vec vectors: \" + str(time.time() - start_time))"
      ],
      "execution_count": 13,
      "outputs": [
        {
          "output_type": "stream",
          "text": [
            "Time taken to fit the RF model with word2vec vectors: 1.4205007553100586\n"
          ],
          "name": "stdout"
        }
      ]
    },
    {
      "cell_type": "code",
      "metadata": {
        "id": "knoyRilNisLQ",
        "colab_type": "code",
        "colab": {
          "base_uri": "https://localhost:8080/",
          "height": 35
        },
        "outputId": "5f44cd92-fa53-4c6f-bc7e-d7594df38530"
      },
      "source": [
        "#Initialize the model\n",
        "rf_classifier = RandomForestClassifier(n_estimators=10, max_depth=2, random_state=15)\n",
        "\n",
        "start_time = time.time()\n",
        "# Fit the model\n",
        "rf_classifier.fit(word2vec_df, Y_train['sentiment'])\n",
        "print(\"Time taken to fit the RF model with word2vec vectors: \" + str(time.time() - start_time))"
      ],
      "execution_count": 14,
      "outputs": [
        {
          "output_type": "stream",
          "text": [
            "Time taken to fit the RF model with word2vec vectors: 9.772306442260742\n"
          ],
          "name": "stdout"
        }
      ]
    },
    {
      "cell_type": "code",
      "metadata": {
        "id": "DB72KiM3X4rZ",
        "colab_type": "code",
        "colab": {
          "base_uri": "https://localhost:8080/",
          "height": 35
        },
        "outputId": "690d3514-d13b-4551-b97b-ed83861c8ad2"
      },
      "source": [
        "#Initialize the model\n",
        "svc_classifier = LinearSVC()\n",
        "\n",
        "start_time = time.time()\n",
        "# Fit the model\n",
        "svc_classifier.fit(word2vec_df, Y_train['sentiment'])\n",
        "print(\"Time taken to fit the SVC model with word2vec vectors: \" + str(time.time() - start_time))"
      ],
      "execution_count": 16,
      "outputs": [
        {
          "output_type": "stream",
          "text": [
            "Time taken to fit the SVC model with word2vec vectors: 293.67576146125793\n"
          ],
          "name": "stdout"
        }
      ]
    },
    {
      "cell_type": "code",
      "metadata": {
        "id": "WSV3oxkiiwmd",
        "colab_type": "code",
        "colab": {}
      },
      "source": [
        "# neural network"
      ],
      "execution_count": null,
      "outputs": []
    },
    {
      "cell_type": "markdown",
      "metadata": {
        "id": "YV7g6DLj8Tz9",
        "colab_type": "text"
      },
      "source": [
        "**TESTING CLASSIFICATORI**"
      ]
    },
    {
      "cell_type": "code",
      "metadata": {
        "id": "jkGFNaR4Wyc1",
        "colab_type": "code",
        "colab": {
          "base_uri": "https://localhost:8080/",
          "height": 159
        },
        "outputId": "c144badc-4018-4a16-88e3-de2d9cf18dd6"
      },
      "source": [
        "#This will be the new X_test\n",
        "test_word2vec = []\n",
        "count = 0;\n",
        "for index, row in X_test.iterrows():\n",
        "    model_vector = np.mean([w2v_model[token] for token in row['stemmed_tokens']], axis=0)\n",
        "    if isinstance(model_vector, np.ndarray):\n",
        "      test_word2vec.append(model_vector)\n",
        "    else:\n",
        "      count = count + 1\n",
        "      test_word2vec.append(np.array([0 for i in range(300)]))\n",
        "print(count)"
      ],
      "execution_count": 100,
      "outputs": [
        {
          "output_type": "stream",
          "text": [
            "/usr/local/lib/python3.6/dist-packages/ipykernel_launcher.py:5: DeprecationWarning: Call to deprecated `__getitem__` (Method will be removed in 4.0.0, use self.wv.__getitem__() instead).\n",
            "  \"\"\"\n",
            "/usr/local/lib/python3.6/dist-packages/numpy/core/fromnumeric.py:3335: RuntimeWarning: Mean of empty slice.\n",
            "  out=out, **kwargs)\n",
            "/usr/local/lib/python3.6/dist-packages/numpy/core/_methods.py:161: RuntimeWarning: invalid value encountered in double_scalars\n",
            "  ret = ret.dtype.type(ret / rcount)\n"
          ],
          "name": "stderr"
        },
        {
          "output_type": "stream",
          "text": [
            "5\n"
          ],
          "name": "stdout"
        }
      ]
    },
    {
      "cell_type": "code",
      "metadata": {
        "id": "j_LUNj22l-q3",
        "colab_type": "code",
        "colab": {
          "base_uri": "https://localhost:8080/",
          "height": 260
        },
        "outputId": "ff539926-9137-46ae-9098-72f5da92c19a"
      },
      "source": [
        "test_word2vec[2600]"
      ],
      "execution_count": 101,
      "outputs": [
        {
          "output_type": "execute_result",
          "data": {
            "text/plain": [
              "array([0, 0, 0, 0, 0, 0, 0, 0, 0, 0, 0, 0, 0, 0, 0, 0, 0, 0, 0, 0, 0, 0,\n",
              "       0, 0, 0, 0, 0, 0, 0, 0, 0, 0, 0, 0, 0, 0, 0, 0, 0, 0, 0, 0, 0, 0,\n",
              "       0, 0, 0, 0, 0, 0, 0, 0, 0, 0, 0, 0, 0, 0, 0, 0, 0, 0, 0, 0, 0, 0,\n",
              "       0, 0, 0, 0, 0, 0, 0, 0, 0, 0, 0, 0, 0, 0, 0, 0, 0, 0, 0, 0, 0, 0,\n",
              "       0, 0, 0, 0, 0, 0, 0, 0, 0, 0, 0, 0, 0, 0, 0, 0, 0, 0, 0, 0, 0, 0,\n",
              "       0, 0, 0, 0, 0, 0, 0, 0, 0, 0, 0, 0, 0, 0, 0, 0, 0, 0, 0, 0, 0, 0,\n",
              "       0, 0, 0, 0, 0, 0, 0, 0, 0, 0, 0, 0, 0, 0, 0, 0, 0, 0, 0, 0, 0, 0,\n",
              "       0, 0, 0, 0, 0, 0, 0, 0, 0, 0, 0, 0, 0, 0, 0, 0, 0, 0, 0, 0, 0, 0,\n",
              "       0, 0, 0, 0, 0, 0, 0, 0, 0, 0, 0, 0, 0, 0, 0, 0, 0, 0, 0, 0, 0, 0,\n",
              "       0, 0, 0, 0, 0, 0, 0, 0, 0, 0, 0, 0, 0, 0, 0, 0, 0, 0, 0, 0, 0, 0,\n",
              "       0, 0, 0, 0, 0, 0, 0, 0, 0, 0, 0, 0, 0, 0, 0, 0, 0, 0, 0, 0, 0, 0,\n",
              "       0, 0, 0, 0, 0, 0, 0, 0, 0, 0, 0, 0, 0, 0, 0, 0, 0, 0, 0, 0, 0, 0,\n",
              "       0, 0, 0, 0, 0, 0, 0, 0, 0, 0, 0, 0, 0, 0, 0, 0, 0, 0, 0, 0, 0, 0,\n",
              "       0, 0, 0, 0, 0, 0, 0, 0, 0, 0, 0, 0, 0, 0])"
            ]
          },
          "metadata": {
            "tags": []
          },
          "execution_count": 101
        }
      ]
    },
    {
      "cell_type": "code",
      "metadata": {
        "id": "zYufqqBckvdg",
        "colab_type": "code",
        "colab": {
          "base_uri": "https://localhost:8080/",
          "height": 537
        },
        "outputId": "dfbbf1d7-7a17-4deb-e5a2-6bbb990fba22"
      },
      "source": [
        "test_predictions_nb = nb_classifier.predict(test_word2vec)\n",
        "test_predictions_rf = rf_classifier.predict(test_word2vec)\n",
        "test_predictions_svc = svc_classifier.predict(test_word2vec)\n",
        "print(classification_report(Y_test['sentiment'],test_predictions_nb))\n",
        "print(classification_report(Y_test['sentiment'],test_predictions_rf))\n",
        "print(classification_report(Y_test['sentiment'],test_predictions_svc))"
      ],
      "execution_count": 102,
      "outputs": [
        {
          "output_type": "stream",
          "text": [
            "              precision    recall  f1-score   support\n",
            "\n",
            "          -1       0.55      0.68      0.61     30174\n",
            "           0       0.49      0.52      0.50     29921\n",
            "           1       0.62      0.42      0.50     29905\n",
            "\n",
            "    accuracy                           0.54     90000\n",
            "   macro avg       0.55      0.54      0.54     90000\n",
            "weighted avg       0.55      0.54      0.54     90000\n",
            "\n",
            "              precision    recall  f1-score   support\n",
            "\n",
            "          -1       0.59      0.65      0.62     30174\n",
            "           0       0.50      0.47      0.48     29921\n",
            "           1       0.59      0.57      0.58     29905\n",
            "\n",
            "    accuracy                           0.56     90000\n",
            "   macro avg       0.56      0.56      0.56     90000\n",
            "weighted avg       0.56      0.56      0.56     90000\n",
            "\n",
            "              precision    recall  f1-score   support\n",
            "\n",
            "          -1       0.76      0.80      0.78     30174\n",
            "           0       0.66      0.63      0.65     29921\n",
            "           1       0.81      0.80      0.80     29905\n",
            "\n",
            "    accuracy                           0.74     90000\n",
            "   macro avg       0.74      0.74      0.74     90000\n",
            "weighted avg       0.74      0.74      0.74     90000\n",
            "\n"
          ],
          "name": "stdout"
        }
      ]
    },
    {
      "cell_type": "code",
      "metadata": {
        "id": "tVB5sMB1TeTR",
        "colab_type": "code",
        "colab": {
          "base_uri": "https://localhost:8080/",
          "height": 245
        },
        "outputId": "7896c31a-9fbe-4d6e-9e81-e748426121ef"
      },
      "source": [
        "w2v_model.wv.most_similar(\"cat\")"
      ],
      "execution_count": 43,
      "outputs": [
        {
          "output_type": "stream",
          "text": [
            "/usr/local/lib/python3.6/dist-packages/gensim/matutils.py:737: FutureWarning: Conversion of the second argument of issubdtype from `int` to `np.signedinteger` is deprecated. In future, it will be treated as `np.int64 == np.dtype(int).type`.\n",
            "  if np.issubdtype(vec.dtype, np.int):\n"
          ],
          "name": "stderr"
        },
        {
          "output_type": "execute_result",
          "data": {
            "text/plain": [
              "[('kitten', 0.6020901203155518),\n",
              " ('dog', 0.5917652249336243),\n",
              " ('pup', 0.5859158039093018),\n",
              " ('pet', 0.578101634979248),\n",
              " ('pug', 0.5507873892784119),\n",
              " ('felin', 0.532281756401062),\n",
              " ('anim', 0.5285110473632812),\n",
              " ('neuter', 0.5258612632751465),\n",
              " ('pomeranian', 0.5222690105438232),\n",
              " ('kitti', 0.5086629390716553)]"
            ]
          },
          "metadata": {
            "tags": []
          },
          "execution_count": 43
        }
      ]
    }
  ]
}